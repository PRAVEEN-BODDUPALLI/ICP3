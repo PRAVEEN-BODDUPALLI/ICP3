{
 "cells": [
  {
   "cell_type": "code",
   "execution_count": 1,
   "id": "f87613a0",
   "metadata": {},
   "outputs": [
    {
     "name": "stdout",
     "output_type": "stream",
     "text": [
      "Total number of employees: 4\n",
      "Average salary: 76250.0\n"
     ]
    }
   ],
   "source": [
    "class Employee:\n",
    "    num_employees = 0\n",
    "\n",
    "    def __init__(self, name, family, salary, department):\n",
    "        self.name = name\n",
    "        self.family = family\n",
    "        self.salary = salary\n",
    "        self.department = department\n",
    "        Employee.num_employees += 1\n",
    "\n",
    "    @staticmethod\n",
    "    def average_salary(employees):\n",
    "        total_salary = sum(emp.salary for emp in employees)\n",
    "        return total_salary / len(employees)\n",
    "\n",
    "class FulltimeEmployee(Employee):\n",
    "    def __init__(self, name, family, salary, department, experience):\n",
    "        super().__init__(name, family, salary, department)\n",
    "        self.experience = experience\n",
    "\n",
    "employee1 = Employee(\"John Doe\", \"Family A\", 60000, \"HR\")\n",
    "employee2 = Employee(\"Jane Smith\", \"Family B\", 75000, \"Finance\")\n",
    "\n",
    "fulltime_employee1 = FulltimeEmployee(\"Alice Johnson\", \"Family C\", 80000, \"IT\", 3)\n",
    "fulltime_employee2 = FulltimeEmployee(\"Bob Williams\", \"Family D\", 90000, \"Engineering\", 5)\n",
    "\n",
    "employees = [employee1, employee2, fulltime_employee1, fulltime_employee2]\n",
    "avg_salary = Employee.average_salary(employees)\n",
    "\n",
    "print(\"Total number of employees:\", Employee.num_employees)\n",
    "print(\"Average salary:\", avg_salary)"
   ]
  },
  {
   "cell_type": "code",
   "execution_count": 2,
   "id": "3d34f82a",
   "metadata": {},
   "outputs": [
    {
     "name": "stdout",
     "output_type": "stream",
     "text": [
      "Original array:\n",
      "[ 7.37037272  6.43792628 17.57431669  2.63962367 19.05678561 17.09825517\n",
      " 10.38953166 14.32412792 17.36221606 15.31082978  1.81815037  9.02145844\n",
      "  4.17994629  5.83266966 17.79884189 11.40590308 19.26020362  4.8485747\n",
      " 17.04358163 18.60523398]\n",
      "\n",
      "Reshaped array:\n",
      "[[ 7.37037272  6.43792628 17.57431669  2.63962367  0.        ]\n",
      " [17.09825517 10.38953166 14.32412792  0.         15.31082978]\n",
      " [ 1.81815037  9.02145844  4.17994629  5.83266966  0.        ]\n",
      " [11.40590308  0.          4.8485747  17.04358163 18.60523398]]\n"
     ]
    }
   ],
   "source": [
    "import numpy as np\n",
    "random_vector = np.random.uniform(1, 20, size=20)\n",
    "print(\"Original array:\")\n",
    "print(random_vector)\n",
    "\n",
    "reshaped_array = random_vector.reshape(4, 5)\n",
    "\n",
    "max_indices = np.argmax(reshaped_array, axis=1)\n",
    "\n",
    "reshaped_array[np.arange(4), max_indices] = 0\n",
    "\n",
    "print(\"\\nReshaped array:\")\n",
    "print(reshaped_array)"
   ]
  },
  {
   "cell_type": "code",
   "execution_count": null,
   "id": "5c73f19d",
   "metadata": {},
   "outputs": [],
   "source": []
  }
 ],
 "metadata": {
  "kernelspec": {
   "display_name": "Python 3 (ipykernel)",
   "language": "python",
   "name": "python3"
  },
  "language_info": {
   "codemirror_mode": {
    "name": "ipython",
    "version": 3
   },
   "file_extension": ".py",
   "mimetype": "text/x-python",
   "name": "python",
   "nbconvert_exporter": "python",
   "pygments_lexer": "ipython3",
   "version": "3.11.5"
  }
 },
 "nbformat": 4,
 "nbformat_minor": 5
}
